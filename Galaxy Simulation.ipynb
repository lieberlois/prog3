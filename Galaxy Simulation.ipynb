{
 "cells": [
  {
   "cell_type": "code",
   "execution_count": 2,
   "metadata": {
    "scrolled": true
   },
   "outputs": [
    {
     "data": {
      "text/plain": [
       "[<matplotlib.lines.Line2D at 0x233440d90f0>]"
      ]
     },
     "execution_count": 2,
     "metadata": {},
     "output_type": "execute_result"
    },
    {
     "data": {
      "image/png": "[encoded data removed]",
      "text/plain": [
       "<Figure size 432x288 with 1 Axes>"
      ]
     },
     "metadata": {
      "needs_background": "light"
     },
     "output_type": "display_data"
    }
   ],
   "source": [
    "import numpy as np\n",
    "import matplotlib.pyplot as plt\n",
    "%matplotlib inline\n",
    "\n",
    "def calc_acceleration(force, mass):\n",
    "    if mass <= 0:\n",
    "        raise TypeError('Mass has to be greater than 0')\n",
    "    return (1/mass)*force\n",
    "\n",
    "def next_location(mass, position, speed, acceleration, delta_t):\n",
    "    return (position + delta_t * speed + (delta_t**2/2)*acceleration)\n",
    "\n",
    "def calc_gravitational_force(mass1, mass2, pos1, pos2):\n",
    "    delta_pos = np.linalg.norm(pos2-pos1)\n",
    "    return (6.673*10**-11)*(((mass1*mass2)/delta_pos**3)*(pos2-pos1))\n",
    "\n",
    "def calc_mass_focus(ignore, masses, positions):\n",
    "    total_mass = np.sum(masses)\n",
    "    \n",
    "    tmp_loc = np.zeros(3, dtype=np.float64)\n",
    "    \n",
    "    for i in range(masses.size):\n",
    "        if i == ignore:\n",
    "            continue\n",
    "        tmp_loc = tmp_loc + (masses[i] * positions[i])    \n",
    "    return (1/(total_mass - masses[i]))*tmp_loc\n",
    "\n",
    "\n",
    "\n",
    "body_amount = 2\n",
    "positions = np.zeros((body_amount, 3), dtype=np.float64)\n",
    "speed = np.zeros((body_amount, 3), dtype=np.float64)\n",
    "radius = np.zeros((body_amount), dtype=np.float64)\n",
    "mass = np.zeros((body_amount), dtype=np.float64)\n",
    "\n",
    "positions[0] = np.array([0,0,0])\n",
    "speed[0] = [0,0,0]\n",
    "mass[0] = 1.989*10**30\n",
    "\n",
    "positions[1] = np.array([1.496*10**11, 0, 0])\n",
    "speed[1] = np.array([0, 29780, 0])\n",
    "mass[1] = 5.972*10**24\n",
    "\n",
    "x_vals = []\n",
    "y_vals = []\n",
    "timestep = 1000\n",
    "step_amount = 3154*10**1\n",
    "\n",
    "for i in range(step_amount):\n",
    "    body = 1\n",
    "    mass_foc_pos = positions[0]\n",
    "    mass_foc_weight = mass[0]\n",
    "    grav_force = calc_gravitational_force(mass[body], mass_foc_weight, positions[body], mass_foc_pos)\n",
    "    accel = calc_acceleration(grav_force, mass[body])\n",
    "    speed[body] = speed[body] + accel*timestep\n",
    "    positions[body] = next_location(mass[body], positions[body], speed[body], accel, timestep)\n",
    "    x_vals.append(positions[body][0])\n",
    "    y_vals.append(positions[body][1])\n",
    "\n",
    "plt.axis('equal')\n",
    "plt.plot(x_vals, y_vals)"
   ]
  }
 ],
 "metadata": {
  "kernelspec": {
   "display_name": "Python 3",
   "language": "python",
   "name": "python3"
  },
  "language_info": {
   "codemirror_mode": {
    "name": "ipython",
    "version": 3
   },
   "file_extension": ".py",
   "mimetype": "text/x-python",
   "name": "python",
   "nbconvert_exporter": "python",
   "pygments_lexer": "ipython3",
   "version": "3.6.6"
  },
  "latex_envs": {
   "LaTeX_envs_menu_present": true,
   "autoclose": false,
   "autocomplete": true,
   "bibliofile": "biblio.bib",
   "cite_by": "apalike",
   "current_citInitial": 1,
   "eqLabelWithNumbers": true,
   "eqNumInitial": 1,
   "hotkeys": {
    "equation": "Ctrl-E",
    "itemize": "Ctrl-I"
   },
   "labels_anchors": false,
   "latex_user_defs": false,
   "report_style_numbering": false,
   "user_envs_cfg": false
  },
  "toc": {
   "base_numbering": 1,
   "nav_menu": {},
   "number_sections": true,
   "sideBar": true,
   "skip_h1_title": false,
   "title_cell": "Table of Contents",
   "title_sidebar": "Contents",
   "toc_cell": false,
   "toc_position": {},
   "toc_section_display": true,
   "toc_window_display": false
  }
 },
 "nbformat": 4,
 "nbformat_minor": 2
}
