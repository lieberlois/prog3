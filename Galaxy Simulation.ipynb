{
 "cells": [
  {
   "cell_type": "markdown",
   "metadata": {},
   "source": [
    "# Galaxy Simulation"
   ]
  },
  {
   "cell_type": "markdown",
   "metadata": {},
   "source": [
    "## Kreisbahn der Erde um die Sonne 2D"
   ]
  },
  {
   "cell_type": "code",
   "execution_count": null,
   "metadata": {
    "scrolled": true
   },
   "outputs": [],
   "source": [
    "import numpy as np\n",
    "import matplotlib.pyplot as plt\n",
    "%matplotlib inline\n",
    "\n",
    "def calc_acceleration(force, mass):\n",
    "    if mass <= 0:\n",
    "        raise TypeError('Mass has to be greater than 0')\n",
    "    return (1/mass)*force\n",
    "\n",
    "def next_location(mass, position, speed, acceleration, delta_t):\n",
    "    return (position + delta_t * speed + (delta_t**2/2)*acceleration)\n",
    "\n",
    "def calc_gravitational_force(mass1, mass2, pos1, pos2):\n",
    "    delta_pos = np.linalg.norm(pos2-pos1)\n",
    "    return (6.673*10**-11)*(((mass1*mass2)/delta_pos**3)*(pos2-pos1))\n",
    "\n",
    "def calc_mass_focus(ignore, masses, positions):\n",
    "    total_mass = np.sum(masses)\n",
    "    \n",
    "    tmp_loc = np.zeros(3, dtype=np.float64)\n",
    "    \n",
    "    for i in range(masses.size):\n",
    "        if i == ignore:\n",
    "            continue\n",
    "        tmp_loc = tmp_loc + (masses[i] * positions[i])    \n",
    "    return (1/(total_mass - masses[i]))*tmp_loc\n",
    "\n",
    "\n",
    "\n",
    "body_amount = 2\n",
    "positions = np.zeros((body_amount, 3), dtype=np.float64)\n",
    "speed = np.zeros((body_amount, 3), dtype=np.float64)\n",
    "radius = np.zeros((body_amount), dtype=np.float64)\n",
    "mass = np.zeros((body_amount), dtype=np.float64)\n",
    "\n",
    "positions[0] = np.array([0,0,0])\n",
    "speed[0] = [0,0,0]\n",
    "mass[0] = 1.989*10**30\n",
    "\n",
    "positions[1] = np.array([1.496*10**11, 0, 0])\n",
    "speed[1] = np.array([0, 29780, 0])\n",
    "mass[1] = 5.972*10**24\n",
    "\n",
    "x_vals = []\n",
    "y_vals = []\n",
    "\n",
    "timestep = 100\n",
    "step_amount = 315400\n",
    "\n",
    "for i in range(step_amount):\n",
    "    body = 1\n",
    "    mass_foc_pos = positions[0]\n",
    "    mass_foc_weight = mass[0]\n",
    "    grav_force = calc_gravitational_force(mass[body], mass_foc_weight, positions[body], mass_foc_pos)\n",
    "    accel = calc_acceleration(grav_force, mass[body])\n",
    "    speed[body] = speed[body] + accel*timestep\n",
    "    positions[body] = next_location(mass[body], positions[body], speed[body], accel, timestep)\n",
    "    x_vals.append(positions[body][0])\n",
    "    y_vals.append(positions[body][1])\n",
    "\n",
    "plt.axis('equal')\n",
    "plt.plot(x_vals, y_vals)"
   ]
  },
  {
   "cell_type": "markdown",
   "metadata": {},
   "source": [
    "## Testing Cython"
   ]
  },
  {
   "cell_type": "markdown",
   "metadata": {},
   "source": [
    "In den folgenden Zellen testen wir Cython und wieviel Impact es auf die Laufzeit hat"
   ]
  },
  {
   "cell_type": "code",
   "execution_count": null,
   "metadata": {},
   "outputs": [],
   "source": [
    "%load_ext cython"
   ]
  },
  {
   "cell_type": "markdown",
   "metadata": {},
   "source": [
    "### Version using NumPy Arrays only"
   ]
  },
  {
   "cell_type": "code",
   "execution_count": null,
   "metadata": {},
   "outputs": [],
   "source": [
    "from numpy.linalg import norm\n",
    "from numpy import array\n",
    "\n",
    "G_CONSTANT = 6.673e-11\n",
    "\n",
    "def g_force(mass1, mass2, pos1, pos2):\n",
    "    \n",
    "    delta_pos = pos2 - pos1\n",
    "    abs_dpos = norm(delta_pos)\n",
    "    return G_CONSTANT * (((mass1)/abs_dpos**3)*mass2) * delta_pos"
   ]
  },
  {
   "cell_type": "markdown",
   "metadata": {},
   "source": [
    "### Cython optimised Version"
   ]
  },
  {
   "cell_type": "code",
   "execution_count": null,
   "metadata": {
    "scrolled": false
   },
   "outputs": [],
   "source": [
    "%%cython -a\n",
    "\n",
    "cimport cython\n",
    "\n",
    "import numpy as np\n",
    "cimport numpy as np\n",
    "from libc.math cimport sqrt\n",
    "\n",
    "ctypedef np.float64_t DTYPE_t\n",
    "cdef float G_CONSTANT_c = 6.673e-11\n",
    "\n",
    "@cython.cdivision(True)\n",
    "cpdef np.ndarray[DTYPE_t, ndim=1] g_force_cython(float mass1,\n",
    "                                                 float mass2,\n",
    "                                                 np.ndarray[DTYPE_t, ndim=1] pos1,\n",
    "                                                 np.ndarray[DTYPE_t, ndim=1] pos2):\n",
    "    \n",
    "    cdef np.ndarray[DTYPE_t, ndim=1] d_pos = pos2 - pos1\n",
    "    cdef float abs_dpos = sqrt(d_pos[0]**2+d_pos[1]**2+d_pos[2]**2)\n",
    "    return G_CONSTANT_c * (((mass1)/abs_dpos**3)*mass2) * d_pos"
   ]
  },
  {
   "cell_type": "code",
   "execution_count": null,
   "metadata": {},
   "outputs": [],
   "source": [
    "## Initialize masses and positions\n",
    "import numpy as np\n",
    "\n",
    "mass1 = 5.972 * 10**24\n",
    "mass2 = 1.898 * 10**27\n",
    "pos1 = np.array([108836377761.77997, 70586571455.50005, -1669580584.6400046])\n",
    "pos2 = np.array([137140635336.02217, -37048853897.46875, 15369312079.6235])\n",
    "\n",
    "# TIME IT\n",
    "%timeit g_force(mass1, mass2, pos1, pos2)\n",
    "%timeit g_force_cython(mass1, mass2, pos1, pos2)"
   ]
  },
  {
   "cell_type": "markdown",
   "metadata": {},
   "source": [
    "## Cython: *physics_formula*"
   ]
  },
  {
   "cell_type": "code",
   "execution_count": 1,
   "metadata": {},
   "outputs": [],
   "source": [
    "%load_ext Cython"
   ]
  },
  {
   "cell_type": "markdown",
   "metadata": {},
   "source": [
    "### calc_acceleration()"
   ]
  },
  {
   "cell_type": "code",
   "execution_count": null,
   "metadata": {},
   "outputs": [],
   "source": [
    "def calc_acceleration(force, mass):\n",
    "    return force/mass"
   ]
  },
  {
   "cell_type": "code",
   "execution_count": null,
   "metadata": {
    "scrolled": true
   },
   "outputs": [],
   "source": [
    "%%cython -a\n",
    "\n",
    "import numpy as np\n",
    "cimport numpy as np\n",
    "cimport cython\n",
    "\n",
    "ctypedef np.float64_t DTYPE_T\n",
    "\n",
    "cpdef np.ndarray[DTYPE_T, ndim=1] calc_acceleration_cy(np.ndarray[DTYPE_T, ndim=1] force, float mass):\n",
    "    return force/mass"
   ]
  },
  {
   "cell_type": "code",
   "execution_count": null,
   "metadata": {},
   "outputs": [],
   "source": [
    "sun_weight = 1.989e30\n",
    "earth_weight = 5.972e24\n",
    "sun_pos = np.array([0, 0, 0], dtype=np.float64)\n",
    "earth_pos = np.array([1.496e11, 0, 0], dtype=np.float64)\n",
    "earth_force = g_force(earth_weight, sun_weight, earth_pos, sun_pos)\n",
    "\n",
    "# TIME IT\n",
    "%timeit calc_acceleration(earth_force, earth_weight)\n",
    "%timeit calc_acceleration_cy(earth_force, earth_weight)"
   ]
  },
  {
   "cell_type": "markdown",
   "metadata": {},
   "source": [
    "### calc_mass_focus()"
   ]
  },
  {
   "cell_type": "code",
   "execution_count": null,
   "metadata": {},
   "outputs": [],
   "source": [
    "def calc_mass_focus(masses, positions):\n",
    "    tmp_focus = np.zeros(3, dtype=np.float64)\n",
    "    for i in range(masses.size):\n",
    "        tmp_focus = tmp_focus + masses[i] * positions[i]\n",
    "    return tmp_focus/np.sum(masses)"
   ]
  },
  {
   "cell_type": "code",
   "execution_count": null,
   "metadata": {},
   "outputs": [],
   "source": [
    "%%cython -a\n",
    "\n",
    "import numpy as np\n",
    "cimport numpy as np\n",
    "cimport cython\n",
    "\n",
    "ctypedef np.float64_t DTYPE_T\n",
    "        \n",
    "@cython.cdivision(True)\n",
    "@cython.boundscheck(False)\n",
    "cpdef np.ndarray[DTYPE_T, ndim=1] calc_mass_focus_cy(np.ndarray[DTYPE_T, ndim=1] masses,\n",
    "                                                     np.ndarray[DTYPE_T, ndim=2] positions):\n",
    "    \n",
    "    cdef np.ndarray[DTYPE_T, ndim=1] tmp_focus = np.empty(3, dtype=np.float64)\n",
    "    cdef int i\n",
    "    \n",
    "    for i in range(masses.shape[0]):\n",
    "        tmp_focus = tmp_focus + masses[i] * positions[i]\n",
    "    return tmp_focus/np.sum(masses)"
   ]
  },
  {
   "cell_type": "code",
   "execution_count": null,
   "metadata": {},
   "outputs": [],
   "source": [
    "from random import uniform \n",
    "\n",
    "positions = np.zeros((5000, 3), dtype=np.float64)\n",
    "mass = np.zeros((5000), dtype=np.float64)\n",
    "\n",
    "for i in range(mass.shape[0]):\n",
    "    x_pos = uniform(1e10, 1e13)\n",
    "    y_pos = uniform(1e10, 1e13)\n",
    "    z_pos = uniform(1e10, 1e13)\n",
    "    positions[i] = np.array([x_pos,\n",
    "                             y_pos,\n",
    "                             z_pos])\n",
    "\n",
    "    mass[i] = uniform(1e25, 2e30)\n",
    "\n",
    "\n",
    "# TIME IT\n",
    "%timeit calc_mass_focus(mass, positions)\n",
    "%timeit calc_mass_focus_cy(mass, positions)"
   ]
  },
  {
   "cell_type": "markdown",
   "metadata": {},
   "source": [
    "### calc_mass_focus_ignore()"
   ]
  },
  {
   "cell_type": "code",
   "execution_count": 2,
   "metadata": {},
   "outputs": [],
   "source": [
    "def calc_mass_focus_ignore(ignore, masses, positions):\n",
    "    \n",
    "    tmp_loc = np.zeros(3, dtype=np.float64)\n",
    "\n",
    "    for i in range(masses.size):\n",
    "        if i == ignore:\n",
    "            continue\n",
    "        tmp_loc = tmp_loc + (masses[i] * positions[i])\n",
    "    return tmp_loc/(np.sum(masses) - masses[ignore])"
   ]
  },
  {
   "cell_type": "code",
   "execution_count": 3,
   "metadata": {
    "scrolled": true
   },
   "outputs": [
    {
     "name": "stderr",
     "output_type": "stream",
     "text": [
      "\n",
      "Error compiling Cython file:\n",
      "------------------------------------------------------------\n",
      "...\n",
      "\n",
      "ctypedef np.float64_t DTYPE_T\n",
      "\n",
      "@cython.boundscheck(False)\n",
      "@cython.cdivision(True)\n",
      "def np.ndarray[DTYPE_T, ndim=1] calc_mass_focus_ignore_cy(np.intp_t ignore,\n",
      "     ^\n",
      "------------------------------------------------------------\n",
      "\n",
      "/home/pyoneer/.cache/ipython/cython/_cython_magic_9945cb86bc5f8107712a57794fc30c8c.pyx:12:6: Expected '(', found '.'\n"
     ]
    },
    {
     "ename": "TypeError",
     "evalue": "object of type 'NoneType' has no len()",
     "output_type": "error",
     "traceback": [
      "\u001b[0;31m---------------------------------------------------------------------------\u001b[0m",
      "\u001b[0;31mTypeError\u001b[0m                                 Traceback (most recent call last)",
      "\u001b[0;32m<ipython-input-3-11f4f0dbcc5a>\u001b[0m in \u001b[0;36m<module>\u001b[0;34m()\u001b[0m\n\u001b[0;32m----> 1\u001b[0;31m \u001b[0mget_ipython\u001b[0m\u001b[0;34m(\u001b[0m\u001b[0;34m)\u001b[0m\u001b[0;34m.\u001b[0m\u001b[0mrun_cell_magic\u001b[0m\u001b[0;34m(\u001b[0m\u001b[0;34m'cython'\u001b[0m\u001b[0;34m,\u001b[0m \u001b[0;34m'-a'\u001b[0m\u001b[0;34m,\u001b[0m \u001b[0;34m'\\n# CYTHON USING NDARRAYS\\n\\nimport numpy as np\\ncimport numpy as np\\ncimport cython\\n\\nctypedef np.float64_t DTYPE_T\\n\\n@cython.boundscheck(False)\\n@cython.cdivision(True)\\ndef np.ndarray[DTYPE_T, ndim=1] calc_mass_focus_ignore_cy(np.intp_t ignore,\\n                                                            np.ndarray[DTYPE_T, ndim=1] masses,\\n                                                            np.ndarray[DTYPE_T, ndim=2] positions):\\n    \\n    cdef np.ndarray[DTYPE_T, ndim=1] tmp_loc = np.empty(3, dtype=np.float64)\\n    cdef np.intp_t i\\n    for i in range(masses.shape[0]):\\n        if i == ignore:\\n            continue\\n        tmp_loc = tmp_loc + masses[i] * positions[i]\\n    return tmp_loc/(np.sum(masses) - masses[ignore])'\u001b[0m\u001b[0;34m)\u001b[0m\u001b[0;34m\u001b[0m\u001b[0m\n\u001b[0m",
      "\u001b[0;32m/opt/anaconda/lib/python3.6/site-packages/IPython/core/interactiveshell.py\u001b[0m in \u001b[0;36mrun_cell_magic\u001b[0;34m(self, magic_name, line, cell)\u001b[0m\n\u001b[1;32m   2165\u001b[0m             \u001b[0mmagic_arg_s\u001b[0m \u001b[0;34m=\u001b[0m \u001b[0mself\u001b[0m\u001b[0;34m.\u001b[0m\u001b[0mvar_expand\u001b[0m\u001b[0;34m(\u001b[0m\u001b[0mline\u001b[0m\u001b[0;34m,\u001b[0m \u001b[0mstack_depth\u001b[0m\u001b[0;34m)\u001b[0m\u001b[0;34m\u001b[0m\u001b[0m\n\u001b[1;32m   2166\u001b[0m             \u001b[0;32mwith\u001b[0m \u001b[0mself\u001b[0m\u001b[0;34m.\u001b[0m\u001b[0mbuiltin_trap\u001b[0m\u001b[0;34m:\u001b[0m\u001b[0;34m\u001b[0m\u001b[0m\n\u001b[0;32m-> 2167\u001b[0;31m                 \u001b[0mresult\u001b[0m \u001b[0;34m=\u001b[0m \u001b[0mfn\u001b[0m\u001b[0;34m(\u001b[0m\u001b[0mmagic_arg_s\u001b[0m\u001b[0;34m,\u001b[0m \u001b[0mcell\u001b[0m\u001b[0;34m)\u001b[0m\u001b[0;34m\u001b[0m\u001b[0m\n\u001b[0m\u001b[1;32m   2168\u001b[0m             \u001b[0;32mreturn\u001b[0m \u001b[0mresult\u001b[0m\u001b[0;34m\u001b[0m\u001b[0m\n\u001b[1;32m   2169\u001b[0m \u001b[0;34m\u001b[0m\u001b[0m\n",
      "\u001b[0;32m<decorator-gen-157>\u001b[0m in \u001b[0;36mcython\u001b[0;34m(self, line, cell)\u001b[0m\n",
      "\u001b[0;32m/opt/anaconda/lib/python3.6/site-packages/IPython/core/magic.py\u001b[0m in \u001b[0;36m<lambda>\u001b[0;34m(f, *a, **k)\u001b[0m\n\u001b[1;32m    185\u001b[0m     \u001b[0;31m# but it's overkill for just that one bit of state.\u001b[0m\u001b[0;34m\u001b[0m\u001b[0;34m\u001b[0m\u001b[0m\n\u001b[1;32m    186\u001b[0m     \u001b[0;32mdef\u001b[0m \u001b[0mmagic_deco\u001b[0m\u001b[0;34m(\u001b[0m\u001b[0marg\u001b[0m\u001b[0;34m)\u001b[0m\u001b[0;34m:\u001b[0m\u001b[0;34m\u001b[0m\u001b[0m\n\u001b[0;32m--> 187\u001b[0;31m         \u001b[0mcall\u001b[0m \u001b[0;34m=\u001b[0m \u001b[0;32mlambda\u001b[0m \u001b[0mf\u001b[0m\u001b[0;34m,\u001b[0m \u001b[0;34m*\u001b[0m\u001b[0ma\u001b[0m\u001b[0;34m,\u001b[0m \u001b[0;34m**\u001b[0m\u001b[0mk\u001b[0m\u001b[0;34m:\u001b[0m \u001b[0mf\u001b[0m\u001b[0;34m(\u001b[0m\u001b[0;34m*\u001b[0m\u001b[0ma\u001b[0m\u001b[0;34m,\u001b[0m \u001b[0;34m**\u001b[0m\u001b[0mk\u001b[0m\u001b[0;34m)\u001b[0m\u001b[0;34m\u001b[0m\u001b[0m\n\u001b[0m\u001b[1;32m    188\u001b[0m \u001b[0;34m\u001b[0m\u001b[0m\n\u001b[1;32m    189\u001b[0m         \u001b[0;32mif\u001b[0m \u001b[0mcallable\u001b[0m\u001b[0;34m(\u001b[0m\u001b[0marg\u001b[0m\u001b[0;34m)\u001b[0m\u001b[0;34m:\u001b[0m\u001b[0;34m\u001b[0m\u001b[0m\n",
      "\u001b[0;32m/opt/anaconda/lib/python3.6/site-packages/Cython/Build/IpythonMagic.py\u001b[0m in \u001b[0;36mcython\u001b[0;34m(self, line, cell)\u001b[0m\n\u001b[1;32m    319\u001b[0m         \u001b[0;32mif\u001b[0m \u001b[0mneed_cythonize\u001b[0m\u001b[0;34m:\u001b[0m\u001b[0;34m\u001b[0m\u001b[0m\n\u001b[1;32m    320\u001b[0m             \u001b[0mextensions\u001b[0m \u001b[0;34m=\u001b[0m \u001b[0mself\u001b[0m\u001b[0;34m.\u001b[0m\u001b[0m_cythonize\u001b[0m\u001b[0;34m(\u001b[0m\u001b[0mmodule_name\u001b[0m\u001b[0;34m,\u001b[0m \u001b[0mcode\u001b[0m\u001b[0;34m,\u001b[0m \u001b[0mlib_dir\u001b[0m\u001b[0;34m,\u001b[0m \u001b[0margs\u001b[0m\u001b[0;34m,\u001b[0m \u001b[0mquiet\u001b[0m\u001b[0;34m=\u001b[0m\u001b[0margs\u001b[0m\u001b[0;34m.\u001b[0m\u001b[0mquiet\u001b[0m\u001b[0;34m)\u001b[0m\u001b[0;34m\u001b[0m\u001b[0m\n\u001b[0;32m--> 321\u001b[0;31m             \u001b[0;32massert\u001b[0m \u001b[0mlen\u001b[0m\u001b[0;34m(\u001b[0m\u001b[0mextensions\u001b[0m\u001b[0;34m)\u001b[0m \u001b[0;34m==\u001b[0m \u001b[0;36m1\u001b[0m\u001b[0;34m\u001b[0m\u001b[0m\n\u001b[0m\u001b[1;32m    322\u001b[0m             \u001b[0mextension\u001b[0m \u001b[0;34m=\u001b[0m \u001b[0mextensions\u001b[0m\u001b[0;34m[\u001b[0m\u001b[0;36m0\u001b[0m\u001b[0;34m]\u001b[0m\u001b[0;34m\u001b[0m\u001b[0m\n\u001b[1;32m    323\u001b[0m             \u001b[0mself\u001b[0m\u001b[0;34m.\u001b[0m\u001b[0m_code_cache\u001b[0m\u001b[0;34m[\u001b[0m\u001b[0mkey\u001b[0m\u001b[0;34m]\u001b[0m \u001b[0;34m=\u001b[0m \u001b[0mmodule_name\u001b[0m\u001b[0;34m\u001b[0m\u001b[0m\n",
      "\u001b[0;31mTypeError\u001b[0m: object of type 'NoneType' has no len()"
     ]
    }
   ],
   "source": [
    "%%cython -a\n",
    "\n",
    "# CYTHON USING NDARRAYS\n",
    "\n",
    "import numpy as np\n",
    "cimport numpy as np\n",
    "cimport cython\n",
    "\n",
    "ctypedef np.float64_t DTYPE_T\n",
    "\n",
    "@cython.boundscheck(False)\n",
    "@cython.cdivision(True)\n",
    "def np.ndarray[DTYPE_T, ndim=1] calc_mass_focus_ignore_cy(np.intp_t ignore,\n",
    "                                                            np.ndarray[DTYPE_T, ndim=1] masses,\n",
    "                                                            np.ndarray[DTYPE_T, ndim=2] positions):\n",
    "    \n",
    "    cdef np.ndarray[DTYPE_T, ndim=1] tmp_loc = np.empty(3, dtype=np.float64)\n",
    "    cdef np.intp_t i\n",
    "    for i in range(masses.shape[0]):\n",
    "        if i == ignore:\n",
    "            continue\n",
    "        tmp_loc = tmp_loc + masses[i] * positions[i]\n",
    "    return tmp_loc/(np.sum(masses) - masses[ignore])"
   ]
  },
  {
   "cell_type": "code",
   "execution_count": null,
   "metadata": {},
   "outputs": [],
   "source": [
    "%%cython -a\n",
    "\n",
    "# CYTHON USING MEMORYVIEWS\n",
    "\n",
    "import numpy as np\n",
    "cimport numpy as np\n",
    "cimport cython\n",
    "\n",
    "ctypedef np.float64_t DTYPE_T\n",
    "\n",
    "@cython.boundscheck(False)\n",
    "@cython.cdivision(True)\n",
    "@cython.wraparound(False)\n",
    "cpdef double[::1] calc_mass_focus_ignore_memview(np.intp_t ignore,\n",
    "                                            double[::1] masses,\n",
    "                                            double[:, ::1] positions):\n",
    "    \n",
    "    cdef double[::1] tmp_loc = np.empty(3)\n",
    "    cdef np.intp_t i\n",
    "    for i in range(masses.shape[0]):\n",
    "        if i == ignore:\n",
    "            continue\n",
    "        tmp_loc = tmp_loc + np.multiply(masses[i], positions[i])\n",
    "    return tmp_loc/(np.sum(masses) - masses[ignore])"
   ]
  },
  {
   "cell_type": "code",
   "execution_count": null,
   "metadata": {},
   "outputs": [],
   "source": [
    "from random import uniform \n",
    "\n",
    "positions = np.zeros((5000, 3), dtype=np.float64)\n",
    "mass = np.zeros((5000), dtype=np.float64)\n",
    "ignore = 255\n",
    "\n",
    "for i in range(mass.shape[0]):\n",
    "    x_pos = uniform(1e10, 1e13)\n",
    "    y_pos = uniform(1e10, 1e13)\n",
    "    z_pos = uniform(1e10, 1e13)\n",
    "    positions[i] = np.array([x_pos,\n",
    "                             y_pos,\n",
    "                             z_pos])\n",
    "\n",
    "    mass[i] = uniform(1e25, 2e30)\n",
    "\n",
    "# TIME IT\n",
    "%timeit calc_mass_focus_ignore(ignore, mass, positions)\n",
    "%timeit calc_mass_focus_ignore_cy(ignore, mass, positions)\n",
    "%timeit calc_mass_focus_ignore_memview(ignore, mass, positions)"
   ]
  },
  {
   "cell_type": "markdown",
   "metadata": {},
   "source": [
    "### calc_absolute_speed()"
   ]
  },
  {
   "cell_type": "code",
   "execution_count": null,
   "metadata": {},
   "outputs": [],
   "source": [
    "def calc_absolute_speed(body_index, masses, positions):\n",
    "    \n",
    "    my_mass, my_position = masses[body_index], positions[body_index]\n",
    "    mass_focus_ignored = calc_mass_focus_ignore(body_index, masses, positions)\n",
    "    total_mass = np.sum(masses)\n",
    "\n",
    "    abs_r = np.linalg.norm(my_position - mass_focus_ignored)\n",
    "    return ((total_mass - my_mass) /\n",
    "            total_mass)*np.sqrt(G_CONSTANT*total_mass/abs_r)"
   ]
  },
  {
   "cell_type": "code",
   "execution_count": null,
   "metadata": {},
   "outputs": [],
   "source": [
    "%%cython\n",
    "cimport cython\n",
    "from libc.math cimport sqrt\n",
    "import numpy as np\n",
    "cimport numpy as np\n",
    "\n",
    "ctypedef np.float64_t DTYPE_T\n",
    "\n",
    "cdef float G_CONSTANT = 6.673e-11\n",
    "\n",
    "# HAD TO COPY THIS METHOD IN, CAN BE IGNORED\n",
    "@cython.boundscheck(False)\n",
    "@cython.cdivision(True)\n",
    "cdef np.ndarray[DTYPE_T, ndim=1] calc_mass_focus_ignore_cy(int ignore,\n",
    "                                                            np.ndarray[DTYPE_T, ndim=1] masses,\n",
    "                                                            np.ndarray[DTYPE_T, ndim=2] positions):\n",
    "    cdef np.ndarray[DTYPE_T, ndim=1] tmp_loc = np.empty(3, dtype=np.float64)\n",
    "    cdef int i\n",
    "    for i in range(masses.shape[0]):\n",
    "        if i == ignore:\n",
    "            continue\n",
    "        tmp_loc = tmp_loc + masses[i] * positions[i]\n",
    "    return tmp_loc/(np.sum(masses) - masses[ignore])\n",
    "\n",
    "\n",
    "cpdef float calc_absolute_speed_cy(int body_index,\n",
    "                                   np.ndarray[DTYPE_T, ndim=1] masses,\n",
    "                                   np.ndarray[DTYPE_T, ndim=2] positions):\n",
    "    \n",
    "    cdef float my_mass = masses[body_index]\n",
    "    cdef np.ndarray[DTYPE_T, ndim=1] my_pos = positions[body_index]\n",
    "    cdef float total_mass = np.sum(masses)\n",
    "    \n",
    "    cdef np.ndarray[DTYPE_T, ndim=1] to_norm = my_pos - calc_mass_focus_ignore_cy(body_index, masses, positions)\n",
    "    cdef float abs_r = sqrt(to_norm[0]**2 + to_norm[1]**2 + to_norm[2]**2)\n",
    "    return ((total_mass - my_mass) / total_mass) *sqrt(G_CONSTANT * total_mass/abs_r)"
   ]
  },
  {
   "cell_type": "code",
   "execution_count": null,
   "metadata": {
    "scrolled": true
   },
   "outputs": [],
   "source": [
    "from random import uniform \n",
    "\n",
    "positions = np.zeros((5000, 3), dtype=np.float64)\n",
    "mass = np.zeros((5000), dtype=np.float64)\n",
    "ignore = 255\n",
    "\n",
    "for i in range(mass.shape[0]):\n",
    "    x_pos = uniform(1e10, 1e13)\n",
    "    y_pos = uniform(1e10, 1e13)\n",
    "    z_pos = uniform(1e10, 1e13)\n",
    "    positions[i] = np.array([x_pos,\n",
    "                             y_pos,\n",
    "                             z_pos])\n",
    "\n",
    "    mass[i] = uniform(1e25, 2e30)\n",
    "\n",
    "# TIME IT\n",
    "%timeit calc_absolute_speed(ignore, mass, positions)\n",
    "%timeit calc_absolute_speed_cy(ignore, mass, positions)\n",
    "\n",
    "# print(calc_absolute_speed(ignore, mass, positions))\n",
    "# print(calc_absolute_speed_cy(ignore, mass, positions))"
   ]
  }
 ],
 "metadata": {
  "kernelspec": {
   "display_name": "Python 3",
   "language": "python",
   "name": "python3"
  },
  "language_info": {
   "codemirror_mode": {
    "name": "ipython",
    "version": 3
   },
   "file_extension": ".py",
   "mimetype": "text/x-python",
   "name": "python",
   "nbconvert_exporter": "python",
   "pygments_lexer": "ipython3",
   "version": "3.6.6"
  },
  "latex_envs": {
   "LaTeX_envs_menu_present": true,
   "autoclose": false,
   "autocomplete": true,
   "bibliofile": "biblio.bib",
   "cite_by": "apalike",
   "current_citInitial": 1,
   "eqLabelWithNumbers": true,
   "eqNumInitial": 1,
   "hotkeys": {
    "equation": "Ctrl-E",
    "itemize": "Ctrl-I"
   },
   "labels_anchors": false,
   "latex_user_defs": false,
   "report_style_numbering": false,
   "user_envs_cfg": false
  },
  "toc": {
   "base_numbering": 1,
   "nav_menu": {},
   "number_sections": true,
   "sideBar": true,
   "skip_h1_title": false,
   "title_cell": "Table of Contents",
   "title_sidebar": "Contents",
   "toc_cell": false,
   "toc_position": {},
   "toc_section_display": true,
   "toc_window_display": false
  },
  "varInspector": {
   "cols": {
    "lenName": 16,
    "lenType": 16,
    "lenVar": 40
   },
   "kernels_config": {
    "python": {
     "delete_cmd_postfix": "",
     "delete_cmd_prefix": "del ",
     "library": "var_list.py",
     "varRefreshCmd": "print(var_dic_list())"
    },
    "r": {
     "delete_cmd_postfix": ") ",
     "delete_cmd_prefix": "rm(",
     "library": "var_list.r",
     "varRefreshCmd": "cat(var_dic_list()) "
    }
   },
   "types_to_exclude": [
    "module",
    "function",
    "builtin_function_or_method",
    "instance",
    "_Feature"
   ],
   "window_display": false
  }
 },
 "nbformat": 4,
 "nbformat_minor": 2
}
